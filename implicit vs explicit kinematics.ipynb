{
 "cells": [
  {
   "cell_type": "code",
   "execution_count": 1,
   "id": "d0a15775",
   "metadata": {},
   "outputs": [],
   "source": [
    "%load_ext autoreload\n",
    "%autoreload 2"
   ]
  },
  {
   "cell_type": "code",
   "execution_count": 2,
   "id": "fcfd7b32",
   "metadata": {},
   "outputs": [],
   "source": [
    "import sympy as sp\n",
    "import numpy as np\n",
    "from sympy import symbols\n",
    "from sympy.physics.mechanics import *\n",
    "mechanics_printing()\n",
    "\n",
    "S = symbols\n",
    "DS = dynamicsymbols\n",
    "\n",
    "#suppress warnings\n",
    "import warnings\n",
    "from matplotlib import MatplotlibDeprecationWarning\n",
    "warnings.filterwarnings(\"ignore\", category=MatplotlibDeprecationWarning)"
   ]
  },
  {
   "cell_type": "markdown",
   "id": "a84865fe",
   "metadata": {},
   "source": [
    "# Generalized Coordinates\n",
    "6 independent degrees of freedom:\n",
    "* 3 for orientation (+1 dep due to quaternion representation)\n",
    "* 3 for position"
   ]
  },
  {
   "cell_type": "code",
   "execution_count": 3,
   "id": "356f6487",
   "metadata": {},
   "outputs": [
    {
     "data": {
      "image/png": "[encoded data removed]",
      "text/latex": [
       "$\\displaystyle \\left( \\left[ λ_{1}, \\  λ_{2}, \\  λ_{3}, \\  B_{x}, \\  B_{y}, \\  B_{z}\\right], \\  \\left[ λ_{0}\\right]\\right)$"
      ],
      "text/plain": [
       "([λ₁, λ₂, λ₃, Bₓ, B_y, B_z], [λ₀])"
      ]
     },
     "execution_count": 3,
     "metadata": {},
     "output_type": "execute_result"
    }
   ],
   "source": [
    "#inertial frame\n",
    "NED = ReferenceFrame('NED')\n",
    "NED_o = Point('NED_o')\n",
    "NED_o.set_vel(NED, 0)\n",
    "\n",
    "#body frame\n",
    "q_att = DS('λ_0:4', real=True)\n",
    "B = NED.orientnew('B', 'Quaternion', q_att)\n",
    "\n",
    "q_pos = DS('B_x:z')\n",
    "B_cm = NED_o.locatenew('B_cm', q_pos[0]*B.x + q_pos[1]*B.y + q_pos[2]*B.z)\n",
    "\n",
    "q_ind = q_att[1:] + q_pos\n",
    "q_dep = [q_att[0]]\n",
    "q_ind, q_dep"
   ]
  },
  {
   "cell_type": "markdown",
   "id": "2d7c9784",
   "metadata": {},
   "source": [
    "# Generalized Speeds and kinematic equations\n",
    "6 as well, 3 linear and 3 angular"
   ]
  },
  {
   "cell_type": "code",
   "execution_count": 4,
   "id": "212aad54",
   "metadata": {},
   "outputs": [],
   "source": [
    "kinematic_eqs = []\n",
    "speed_cons = []  \n",
    "\n",
    "B_ang_vel = B.ang_vel_in(NED)\n",
    "P, Q, R = DS('P Q R')\n",
    "B.set_ang_vel(NED, P*B.x + Q*B.y + R*B.z)\n",
    "\n",
    "B_ang_vel_kd = (B.ang_vel_in(NED) - B_ang_vel).simplify()\n",
    "\n",
    "#Equating the two gives us the kinematic equation\n",
    "kinematic_eqs += [\n",
    "    B_ang_vel_kd & B.x,\n",
    "    B_ang_vel_kd & B.y,\n",
    "    B_ang_vel_kd & B.z\n",
    "]"
   ]
  },
  {
   "cell_type": "markdown",
   "id": "f82fe1d9",
   "metadata": {},
   "source": [
    "The order of whether we express B in PQR first or not before \n",
    "computing B_cm_vel makes a HUUUGE difference for the explicit form. Indeed, if B_cm is a function of $\\dot{\\lambda}$, sympy is unable to solve the kinematics explicitly (while implicit treatment is fine)"
   ]
  },
  {
   "cell_type": "code",
   "execution_count": 5,
   "id": "f437cf72",
   "metadata": {},
   "outputs": [],
   "source": [
    "B_cm_vel = B_cm.vel(NED)\n",
    "U, V, W = DS('U V W')\n",
    "B_cm.set_vel(NED, U*B.x + V*B.y + W*B.z)\n",
    "\n",
    "# Compute the velocity of the point using the two methods\n",
    "B_ref_vel_kd = (B_cm.vel(NED) - B_cm_vel)\n",
    "\n",
    "#taking dot product with unit vectors to get kinematic equations\n",
    "#relating body coordinates and velocities\n",
    "\n",
    "#Note, there is a choice to dot with NED.xyz here. That makes\n",
    "#the implicit form have some bigger terms but is still fine, the\n",
    "#explicit form still struggles though\n",
    "kinematic_eqs += [ \n",
    "                  B_ref_vel_kd & B.x, \n",
    "                  B_ref_vel_kd & B.y, \n",
    "                  B_ref_vel_kd & B.z,\n",
    "                 ]\n",
    "\n",
    "u_ind = [U, V, W, P, Q, R]"
   ]
  },
  {
   "cell_type": "markdown",
   "id": "a57aca67",
   "metadata": {},
   "source": [
    "## Dependent coordinate equations\n",
    "We need one additional kinematic equation, and a constraint:\n",
    "\n",
    "* the addition kinematic equation comes from the q.T * dq/dt = 0 property\n",
    "* the constraint comes from the quaternion needing to be unit norm\n",
    "\n",
    "Note that we could have written the kinematic equations for the quaternion\n",
    "directly from dq/dt = Ω * q / 2 property, but that's basically an explicit \n",
    "solution to the kinematics. Because we want to illustrate the issue when equations are\n",
    "explicit, we won't use that shortcut"
   ]
  },
  {
   "cell_type": "code",
   "execution_count": 6,
   "id": "36755345",
   "metadata": {},
   "outputs": [],
   "source": [
    "q_att_vec = sp.Matrix(q_att)\n",
    "config_cons = [q_att_vec.norm()**2 - 1] #unit norm\n",
    "kinematic_eqs = kinematic_eqs + [(q_att_vec.T * q_att_vec.diff())[0]]"
   ]
  },
  {
   "cell_type": "code",
   "execution_count": 7,
   "id": "74ca28ed",
   "metadata": {},
   "outputs": [
    {
     "data": {
      "text/latex": [
       "$\\displaystyle \\left( \\left[\\begin{matrix}P - 2 λ_{0} \\dot{λ}_{1} + 2 λ_{1} \\dot{λ}_{0} + 2 λ_{2} \\dot{λ}_{3} - 2 λ_{3} \\dot{λ}_{2}\\\\Q - 2 λ_{0} \\dot{λ}_{2} - 2 λ_{1} \\dot{λ}_{3} + 2 λ_{2} \\dot{λ}_{0} + 2 λ_{3} \\dot{λ}_{1}\\\\R - 2 λ_{0} \\dot{λ}_{3} + 2 λ_{1} \\dot{λ}_{2} - 2 λ_{2} \\dot{λ}_{1} + 2 λ_{3} \\dot{λ}_{0}\\\\B_{y} R - B_{z} Q + U - \\dot{B}_{x}\\\\- B_{x} R + B_{z} P + V - \\dot{B}_{y}\\\\B_{x} Q - B_{y} P + W - \\dot{B}_{z}\\\\λ_{0} \\dot{λ}_{0} + λ_{1} \\dot{λ}_{1} + λ_{2} \\dot{λ}_{2} + λ_{3} \\dot{λ}_{3}\\end{matrix}\\right], \\  \\left[ λ_{0}^{2} + λ_{1}^{2} + λ_{2}^{2} + λ_{3}^{2} - 1\\right]\\right)$"
      ],
      "text/plain": [
       "⎛⎡P - 2⋅λ₀⋅λ₁̇ + 2⋅λ₁⋅λ₀̇ + 2⋅λ₂⋅λ₃̇ - 2⋅λ₃⋅λ₂̇⎤                             ⎞\n",
       "⎜⎢                                         ⎥                             ⎟\n",
       "⎜⎢Q - 2⋅λ₀⋅λ₂̇ - 2⋅λ₁⋅λ₃̇ + 2⋅λ₂⋅λ₀̇ + 2⋅λ₃⋅λ₁̇⎥                             ⎟\n",
       "⎜⎢                                         ⎥                             ⎟\n",
       "⎜⎢R - 2⋅λ₀⋅λ₃̇ + 2⋅λ₁⋅λ₂̇ - 2⋅λ₂⋅λ₁̇ + 2⋅λ₃⋅λ₀̇⎥                             ⎟\n",
       "⎜⎢                                         ⎥  ⎡  2     2     2     2    ⎤⎟\n",
       "⎜⎢         B_y⋅R - B_z⋅Q + U - Bₓ̇          ⎥, ⎣λ₀  + λ₁  + λ₂  + λ₃  - 1⎦⎟\n",
       "⎜⎢                                         ⎥                             ⎟\n",
       "⎜⎢         -Bₓ⋅R + B_z⋅P + V - B_̇y         ⎥                             ⎟\n",
       "⎜⎢                                         ⎥                             ⎟\n",
       "⎜⎢         Bₓ⋅Q - B_y⋅P + W - B_̇z          ⎥                             ⎟\n",
       "⎜⎢                                         ⎥                             ⎟\n",
       "⎝⎣      λ₀⋅λ₀̇ + λ₁⋅λ₁̇ + λ₂⋅λ₂̇ + λ₃⋅λ₃̇      ⎦                             ⎠"
      ]
     },
     "execution_count": 7,
     "metadata": {},
     "output_type": "execute_result"
    }
   ],
   "source": [
    "sp.Matrix(kinematic_eqs), config_cons"
   ]
  },
  {
   "cell_type": "markdown",
   "id": "6fe0d4de",
   "metadata": {},
   "source": [
    "# Rigid body and forces"
   ]
  },
  {
   "cell_type": "code",
   "execution_count": 8,
   "id": "6fcc35aa",
   "metadata": {},
   "outputs": [],
   "source": [
    "#mass\n",
    "M_B = S('M_B')\n",
    "\n",
    "#inertia dyadic relative to CM\n",
    "J_B = inertia(B, *[S(f'J_B_{ax}')*(1 if ax[0] == ax[1] else -1)\n",
    "        for ax in ['xx', 'yy', 'zz', 'xy', 'yz', 'xz']])\n",
    "#Assume symmetry around xz for this body\n",
    "J_B = msubs(J_B, {S('J_B_xy'): 0, S('J_B_yz'): 0})\n",
    "\n",
    "RB = RigidBody('RB', B_cm, B, M_B, (J_B, B_cm))\n",
    "\n",
    "rigid_bodies = [RB]"
   ]
  },
  {
   "cell_type": "code",
   "execution_count": 9,
   "id": "e6f3b28e",
   "metadata": {},
   "outputs": [],
   "source": [
    "# Forces\n",
    "ForceList = [\n",
    "    #gravity pointing down\n",
    "    (RB.masscenter, RB.mass*S('g')*NED.z),\n",
    "    #generic forces and torques in body frame(inputs)\n",
    "    (RB.frame, DS('T_x')*B.x + DS('T_y')*B.y + DS('T_z')*B.z),\n",
    "    (RB.masscenter, DS('F_x')*B.x + DS('F_y')*B.y + DS('F_z')*B.z) \n",
    "]"
   ]
  },
  {
   "cell_type": "markdown",
   "id": "9f9bf665",
   "metadata": {},
   "source": [
    "# Comparing explicit vs implicit method"
   ]
  },
  {
   "cell_type": "code",
   "execution_count": 10,
   "id": "3f86d7a4",
   "metadata": {},
   "outputs": [],
   "source": [
    "KM_dict = {}\n",
    "def getKane(explicit_kinematics = False, build_M_and_f = False, kd_eqs = kinematic_eqs):\n",
    "    '''\n",
    "    get a KanesMethod object with or without explicit kinematics \n",
    "    '''\n",
    "    KM = KanesMethod(NED, q_ind, u_ind, \n",
    "          q_dependent= q_dep,\n",
    "          kd_eqs = kinematic_eqs, explicit_kinematics=explicit_kinematics,\n",
    "          configuration_constraints = config_cons,\n",
    "          velocity_constraints= [],\n",
    "          u_dependent= [], #no dependent speeds          \n",
    "          u_auxiliary = [] # No auxiliary speeds\n",
    "        )\n",
    "    \n",
    "    if build_M_and_f:\n",
    "        KM.kanes_equations(rigid_bodies, ForceList)\n",
    "    \n",
    "    KM_dict['explicit' if explicit_kinematics else 'implicit'] = KM"
   ]
  },
  {
   "cell_type": "markdown",
   "id": "ffbe254e",
   "metadata": {},
   "source": [
    "Time method using old behavior (explicit_kinematics=True)\n",
    "vs. new behavior (explicit_kinematics=False)"
   ]
  },
  {
   "cell_type": "code",
   "execution_count": 11,
   "id": "a45ef2ed",
   "metadata": {},
   "outputs": [
    {
     "name": "stdout",
     "output_type": "stream",
     "text": [
      "77.5 ms ± 0 ns per loop (mean ± std. dev. of 1 run, 1 loop each)\n",
      "134 ms ± 0 ns per loop (mean ± std. dev. of 1 run, 1 loop each)\n"
     ]
    }
   ],
   "source": [
    "%timeit -n1 -r1 getKane(explicit_kinematics = False)\n",
    "%timeit -n1 -r1 getKane(explicit_kinematics = True)"
   ]
  },
  {
   "cell_type": "markdown",
   "id": "9a7aca5a",
   "metadata": {},
   "source": [
    "Doesn't look so bad just creating the object, but let's now run the equations to build M and f"
   ]
  },
  {
   "cell_type": "code",
   "execution_count": 12,
   "id": "fbc12dd7",
   "metadata": {},
   "outputs": [
    {
     "name": "stdout",
     "output_type": "stream",
     "text": [
      "140 ms ± 11.8 ms per loop (mean ± std. dev. of 7 runs, 1 loop each)\n"
     ]
    }
   ],
   "source": [
    "%timeit -n1  getKane(explicit_kinematics = False, build_M_and_f = True)"
   ]
  },
  {
   "cell_type": "code",
   "execution_count": 13,
   "id": "3689fe6c",
   "metadata": {},
   "outputs": [
    {
     "data": {
      "text/latex": [
       "$\\displaystyle \\left( \\left[\\begin{array}{ccccccccccccc}- 2 λ_{0} & - 2 λ_{3} & 2 λ_{2} & 0 & 0 & 0 & 2 λ_{1} & 0 & 0 & 0 & 0 & 0 & 0\\\\2 λ_{3} & - 2 λ_{0} & - 2 λ_{1} & 0 & 0 & 0 & 2 λ_{2} & 0 & 0 & 0 & 0 & 0 & 0\\\\- 2 λ_{2} & 2 λ_{1} & - 2 λ_{0} & 0 & 0 & 0 & 2 λ_{3} & 0 & 0 & 0 & 0 & 0 & 0\\\\0 & 0 & 0 & -1 & 0 & 0 & 0 & 0 & 0 & 0 & 0 & 0 & 0\\\\0 & 0 & 0 & 0 & -1 & 0 & 0 & 0 & 0 & 0 & 0 & 0 & 0\\\\0 & 0 & 0 & 0 & 0 & -1 & 0 & 0 & 0 & 0 & 0 & 0 & 0\\\\λ_{1} & λ_{2} & λ_{3} & 0 & 0 & 0 & λ_{0} & 0 & 0 & 0 & 0 & 0 & 0\\\\0 & 0 & 0 & 0 & 0 & 0 & 0 & M_{B} & 0 & 0 & 0 & 0 & 0\\\\0 & 0 & 0 & 0 & 0 & 0 & 0 & 0 & M_{B} & 0 & 0 & 0 & 0\\\\0 & 0 & 0 & 0 & 0 & 0 & 0 & 0 & 0 & M_{B} & 0 & 0 & 0\\\\0 & 0 & 0 & 0 & 0 & 0 & 0 & 0 & 0 & 0 & J_{B xx} & 0 & - J_{B xz}\\\\0 & 0 & 0 & 0 & 0 & 0 & 0 & 0 & 0 & 0 & 0 & J_{B yy} & 0\\\\0 & 0 & 0 & 0 & 0 & 0 & 0 & 0 & 0 & 0 & - J_{B xz} & 0 & J_{B zz}\\end{array}\\right], \\  \\left[\\begin{matrix}- P\\\\- Q\\\\- R\\\\- B_{y} R + B_{z} Q - U\\\\B_{x} R - B_{z} P - V\\\\- B_{x} Q + B_{y} P - W\\\\0\\\\M_{B} g \\left(- 2 λ_{0} λ_{2} + 2 λ_{1} λ_{3}\\right) - M_{B} \\left(Q W - R V\\right) + F_{x}\\\\M_{B} g \\left(2 λ_{0} λ_{1} + 2 λ_{2} λ_{3}\\right) - M_{B} \\left(- P W + R U\\right) + F_{y}\\\\M_{B} g \\left(λ_{0}^{2} - λ_{1}^{2} - λ_{2}^{2} + λ_{3}^{2}\\right) - M_{B} \\left(P V - Q U\\right) + F_{z}\\\\J_{B yy} Q R - \\left(- J_{B xz} P + J_{B zz} R\\right) Q + T_{x}\\\\- \\left(J_{B xx} P - J_{B xz} R\\right) R + \\left(- J_{B xz} P + J_{B zz} R\\right) P + T_{y}\\\\- J_{B yy} P Q + \\left(J_{B xx} P - J_{B xz} R\\right) Q + T_{z}\\end{matrix}\\right]\\right)$"
      ],
      "text/plain": [
       "⎛                                                                                  ⎡                \n",
       "⎜⎡-2⋅λ₀  -2⋅λ₃  2⋅λ₂   0   0   0   2⋅λ₁   0    0    0      0       0        0   ⎤  ⎢                \n",
       "⎜⎢                                                                              ⎥  ⎢                \n",
       "⎜⎢2⋅λ₃   -2⋅λ₀  -2⋅λ₁  0   0   0   2⋅λ₂   0    0    0      0       0        0   ⎥  ⎢                \n",
       "⎜⎢                                                                              ⎥  ⎢                \n",
       "⎜⎢-2⋅λ₂  2⋅λ₁   -2⋅λ₀  0   0   0   2⋅λ₃   0    0    0      0       0        0   ⎥  ⎢                \n",
       "⎜⎢                                                                              ⎥  ⎢                \n",
       "⎜⎢  0      0      0    -1  0   0    0     0    0    0      0       0        0   ⎥  ⎢                \n",
       "⎜⎢                                                                              ⎥  ⎢                \n",
       "⎜⎢  0      0      0    0   -1  0    0     0    0    0      0       0        0   ⎥  ⎢                \n",
       "⎜⎢                                                                              ⎥  ⎢                \n",
       "⎜⎢  0      0      0    0   0   -1   0     0    0    0      0       0        0   ⎥  ⎢                \n",
       "⎜⎢                                                                              ⎥  ⎢                \n",
       "⎜⎢ λ₁     λ₂     λ₃    0   0   0    λ₀    0    0    0      0       0        0   ⎥, ⎢                \n",
       "⎜⎢                                                                              ⎥  ⎢    M_B⋅g⋅(-2⋅λ₀\n",
       "⎜⎢  0      0      0    0   0   0    0    M_B   0    0      0       0        0   ⎥  ⎢                \n",
       "⎜⎢                                                                              ⎥  ⎢   M_B⋅g⋅(2⋅λ₀⋅λ\n",
       "⎜⎢  0      0      0    0   0   0    0     0   M_B   0      0       0        0   ⎥  ⎢                \n",
       "⎜⎢                                                                              ⎥  ⎢        ⎛  2    \n",
       "⎜⎢  0      0      0    0   0   0    0     0    0   M_B     0       0        0   ⎥  ⎢  M_B⋅g⋅⎝λ₀  - λ\n",
       "⎜⎢                                                                              ⎥  ⎢                \n",
       "⎜⎢  0      0      0    0   0   0    0     0    0    0   J_B_xx     0     -J_B_xz⎥  ⎢       J_B_yy⋅Q⋅\n",
       "⎜⎢                                                                              ⎥  ⎢                \n",
       "⎜⎢  0      0      0    0   0   0    0     0    0    0      0     J_B_yy     0   ⎥  ⎢-(J_B_xx⋅P - J_B\n",
       "⎜⎢                                                                              ⎥  ⎢                \n",
       "⎝⎣  0      0      0    0   0   0    0     0    0    0   -J_B_xz    0     J_B_zz ⎦  ⎣       -J_B_yy⋅P\n",
       "\n",
       "           -P                            ⎤⎞\n",
       "                                         ⎥⎟\n",
       "           -Q                            ⎥⎟\n",
       "                                         ⎥⎟\n",
       "           -R                            ⎥⎟\n",
       "                                         ⎥⎟\n",
       "   -B_y⋅R + B_z⋅Q - U                    ⎥⎟\n",
       "                                         ⎥⎟\n",
       "    Bₓ⋅R - B_z⋅P - V                     ⎥⎟\n",
       "                                         ⎥⎟\n",
       "    -Bₓ⋅Q + B_y⋅P - W                    ⎥⎟\n",
       "                                         ⎥⎟\n",
       "            0                            ⎥⎟\n",
       "                                         ⎥⎟\n",
       "⋅λ₂ + 2⋅λ₁⋅λ₃) - M_B⋅(Q⋅W - R⋅V) + Fₓ    ⎥⎟\n",
       "                                         ⎥⎟\n",
       "₁ + 2⋅λ₂⋅λ₃) - M_B⋅(-P⋅W + R⋅U) + F_y    ⎥⎟\n",
       "                                         ⎥⎟\n",
       " 2     2     2⎞                          ⎥⎟\n",
       "₁  - λ₂  + λ₃ ⎠ - M_B⋅(P⋅V - Q⋅U) + F_z  ⎥⎟\n",
       "                                         ⎥⎟\n",
       "R - (-J_B_xz⋅P + J_B_zz⋅R)⋅Q + Tₓ        ⎥⎟\n",
       "                                         ⎥⎟\n",
       "_xz⋅R)⋅R + (-J_B_xz⋅P + J_B_zz⋅R)⋅P + T_y⎥⎟\n",
       "                                         ⎥⎟\n",
       "⋅Q + (J_B_xx⋅P - J_B_xz⋅R)⋅Q + T_z       ⎦⎠"
      ]
     },
     "execution_count": 13,
     "metadata": {},
     "output_type": "execute_result"
    }
   ],
   "source": [
    "KM_dict['implicit'].mass_matrix_full, KM_dict['implicit'].forcing_full"
   ]
  },
  {
   "cell_type": "markdown",
   "id": "eafab38f",
   "metadata": {},
   "source": [
    "The explicit kinematics approach takes about 3 times longer:"
   ]
  },
  {
   "cell_type": "code",
   "execution_count": 14,
   "id": "7db1d48d",
   "metadata": {},
   "outputs": [
    {
     "name": "stdout",
     "output_type": "stream",
     "text": [
      "The slowest run took 4.81 times longer than the fastest. This could mean that an intermediate result is being cached.\n",
      "511 ms ± 422 ms per loop (mean ± std. dev. of 7 runs, 1 loop each)\n"
     ]
    }
   ],
   "source": [
    "%timeit -n1  getKane(explicit_kinematics = True , build_M_and_f = True)"
   ]
  },
  {
   "cell_type": "markdown",
   "id": "37a44c19",
   "metadata": {},
   "source": [
    "We can see that part of the issue is that the explicit kinematic expression, although computed quickly, is big ..."
   ]
  },
  {
   "cell_type": "code",
   "execution_count": 15,
   "id": "a2c0aed3",
   "metadata": {},
   "outputs": [
    {
     "name": "stdout",
     "output_type": "stream",
     "text": [
      "(-2*(1 + (λ_3(t) + λ_1(t)*λ_2(t)/λ_0(t) - (-2*λ_1(t) + 2*λ_2(t)*λ_3(t)/λ_0(t))*(λ_2(t) - λ_1(t)*λ_3(t)/λ_0(t))/(-2*λ_0(t) - 2*λ_3(t)**2/λ_0(t)))*(2*λ_3(t) - 2*λ_1(t)*λ_2(t)/λ_0(t) - (2*λ_1(t) + 2*λ_2(t)*λ_3(t)/λ_0(t))*(2*λ_2(t) + 2*λ_1(t)*λ_3(t)/λ_0(t))/(-2*λ_0(t) - 2*λ_3(t)**2/λ_0(t)))/((-2*λ_0(t) - 2*λ_2(t)**2/λ_0(t) - (-2*λ_1(t) + 2*λ_2(t)*λ_3(t)/λ_0(t))*(2*λ_1(t) + 2*λ_2(t)*λ_3(t)/λ_0(t))/(-2*λ_0(t) - 2*λ_3(t)**2/λ_0(t)))*(λ_0(t) + λ_1(t)**2/λ_0(t) - (λ_3(t) + λ_1(t)*λ_2(t)/λ_0(t) - (-2*λ_1(t) + 2*λ_2(t)*λ_3(t)/λ_0(t))*(λ_2(t) - λ_1(t)*λ_3(t)/λ_0(t))/(-2*λ_0(t) - 2*λ_3(t)**2/λ_0(t)))*(2*λ_3(t) - 2*λ_1(t)*λ_2(t)/λ_0(t) - (2*λ_1(t) + 2*λ_2(t)*λ_3(t)/λ_0(t))*(2*λ_2(t) + 2*λ_1(t)*λ_3(t)/λ_0(t))/(-2*λ_0(t) - 2*λ_3(t)**2/λ_0(t)))/(-2*λ_0(t) - 2*λ_2(t)**2/λ_0(t) - (-2*λ_1(t) + 2*λ_2(t)*λ_3(t)/λ_0(t))*(2*λ_1(t) + 2*λ_2(t)*λ_3(t)/λ_0(t))/(-2*λ_0(t) - 2*λ_3(t)**2/λ_0(t))) - (λ_2(t) - λ_1(t)*λ_3(t)/λ_0(t))*(2*λ_2(t) + 2*λ_1(t)*λ_3(t)/λ_0(t))/(-2*λ_0(t) - 2*λ_3(t)**2/λ_0(t)))))*λ_2(t)/(-2*λ_0(t) - 2*λ_2(t)**2/λ_0(t) - (-2*λ_1(t) + 2*λ_2(t)*λ_3(t)/λ_0(t))*(2*λ_1(t) + 2*λ_2(t)*λ_3(t)/λ_0(t))/(-2*λ_0(t) - 2*λ_3(t)**2/λ_0(t))) + 2*(-(1 + (λ_3(t) + λ_1(t)*λ_2(t)/λ_0(t) - (-2*λ_1(t) + 2*λ_2(t)*λ_3(t)/λ_0(t))*(λ_2(t) - λ_1(t)*λ_3(t)/λ_0(t))/(-2*λ_0(t) - 2*λ_3(t)**2/λ_0(t)))*(2*λ_3(t) - 2*λ_1(t)*λ_2(t)/λ_0(t) - (2*λ_1(t) + 2*λ_2(t)*λ_3(t)/λ_0(t))*(2*λ_2(t) + 2*λ_1(t)*λ_3(t)/λ_0(t))/(-2*λ_0(t) - 2*λ_3(t)**2/λ_0(t)))/((-2*λ_0(t) - 2*λ_2(t)**2/λ_0(t) - (-2*λ_1(t) + 2*λ_2(t)*λ_3(t)/λ_0(t))*(2*λ_1(t) + 2*λ_2(t)*λ_3(t)/λ_0(t))/(-2*λ_0(t) - 2*λ_3(t)**2/λ_0(t)))*(λ_0(t) + λ_1(t)**2/λ_0(t) - (λ_3(t) + λ_1(t)*λ_2(t)/λ_0(t) - (-2*λ_1(t) + 2*λ_2(t)*λ_3(t)/λ_0(t))*(λ_2(t) - λ_1(t)*λ_3(t)/λ_0(t))/(-2*λ_0(t) - 2*λ_3(t)**2/λ_0(t)))*(2*λ_3(t) - 2*λ_1(t)*λ_2(t)/λ_0(t) - (2*λ_1(t) + 2*λ_2(t)*λ_3(t)/λ_0(t))*(2*λ_2(t) + 2*λ_1(t)*λ_3(t)/λ_0(t))/(-2*λ_0(t) - 2*λ_3(t)**2/λ_0(t)))/(-2*λ_0(t) - 2*λ_2(t)**2/λ_0(t) - (-2*λ_1(t) + 2*λ_2(t)*λ_3(t)/λ_0(t))*(2*λ_1(t) + 2*λ_2(t)*λ_3(t)/λ_0(t))/(-2*λ_0(t) - 2*λ_3(t)**2/λ_0(t))) - (λ_2(t) - λ_1(t)*λ_3(t)/λ_0(t))*(2*λ_2(t) + 2*λ_1(t)*λ_3(t)/λ_0(t))/(-2*λ_0(t) - 2*λ_3(t)**2/λ_0(t)))))*(-2*λ_1(t) + 2*λ_2(t)*λ_3(t)/λ_0(t))/(-2*λ_0(t) - 2*λ_2(t)**2/λ_0(t) - (-2*λ_1(t) + 2*λ_2(t)*λ_3(t)/λ_0(t))*(2*λ_1(t) + 2*λ_2(t)*λ_3(t)/λ_0(t))/(-2*λ_0(t) - 2*λ_3(t)**2/λ_0(t))) + (2*λ_2(t) + 2*λ_1(t)*λ_3(t)/λ_0(t))*(λ_3(t) + λ_1(t)*λ_2(t)/λ_0(t) - (-2*λ_1(t) + 2*λ_2(t)*λ_3(t)/λ_0(t))*(λ_2(t) - λ_1(t)*λ_3(t)/λ_0(t))/(-2*λ_0(t) - 2*λ_3(t)**2/λ_0(t)))/((-2*λ_0(t) - 2*λ_2(t)**2/λ_0(t) - (-2*λ_1(t) + 2*λ_2(t)*λ_3(t)/λ_0(t))*(2*λ_1(t) + 2*λ_2(t)*λ_3(t)/λ_0(t))/(-2*λ_0(t) - 2*λ_3(t)**2/λ_0(t)))*(λ_0(t) + λ_1(t)**2/λ_0(t) - (λ_3(t) + λ_1(t)*λ_2(t)/λ_0(t) - (-2*λ_1(t) + 2*λ_2(t)*λ_3(t)/λ_0(t))*(λ_2(t) - λ_1(t)*λ_3(t)/λ_0(t))/(-2*λ_0(t) - 2*λ_3(t)**2/λ_0(t)))*(2*λ_3(t) - 2*λ_1(t)*λ_2(t)/λ_0(t) - (2*λ_1(t) + 2*λ_2(t)*λ_3(t)/λ_0(t))*(2*λ_2(t) + 2*λ_1(t)*λ_3(t)/λ_0(t))/(-2*λ_0(t) - 2*λ_3(t)**2/λ_0(t)))/(-2*λ_0(t) - 2*λ_2(t)**2/λ_0(t) - (-2*λ_1(t) + 2*λ_2(t)*λ_3(t)/λ_0(t))*(2*λ_1(t) + 2*λ_2(t)*λ_3(t)/λ_0(t))/(-2*λ_0(t) - 2*λ_3(t)**2/λ_0(t))) - (λ_2(t) - λ_1(t)*λ_3(t)/λ_0(t))*(2*λ_2(t) + 2*λ_1(t)*λ_3(t)/λ_0(t))/(-2*λ_0(t) - 2*λ_3(t)**2/λ_0(t)))))*λ_3(t)/(-2*λ_0(t) - 2*λ_3(t)**2/λ_0(t)) + 2*(λ_3(t) + λ_1(t)*λ_2(t)/λ_0(t) - (-2*λ_1(t) + 2*λ_2(t)*λ_3(t)/λ_0(t))*(λ_2(t) - λ_1(t)*λ_3(t)/λ_0(t))/(-2*λ_0(t) - 2*λ_3(t)**2/λ_0(t)))*λ_1(t)/((-2*λ_0(t) - 2*λ_2(t)**2/λ_0(t) - (-2*λ_1(t) + 2*λ_2(t)*λ_3(t)/λ_0(t))*(2*λ_1(t) + 2*λ_2(t)*λ_3(t)/λ_0(t))/(-2*λ_0(t) - 2*λ_3(t)**2/λ_0(t)))*(λ_0(t) + λ_1(t)**2/λ_0(t) - (λ_3(t) + λ_1(t)*λ_2(t)/λ_0(t) - (-2*λ_1(t) + 2*λ_2(t)*λ_3(t)/λ_0(t))*(λ_2(t) - λ_1(t)*λ_3(t)/λ_0(t))/(-2*λ_0(t) - 2*λ_3(t)**2/λ_0(t)))*(2*λ_3(t) - 2*λ_1(t)*λ_2(t)/λ_0(t) - (2*λ_1(t) + 2*λ_2(t)*λ_3(t)/λ_0(t))*(2*λ_2(t) + 2*λ_1(t)*λ_3(t)/λ_0(t))/(-2*λ_0(t) - 2*λ_3(t)**2/λ_0(t)))/(-2*λ_0(t) - 2*λ_2(t)**2/λ_0(t) - (-2*λ_1(t) + 2*λ_2(t)*λ_3(t)/λ_0(t))*(2*λ_1(t) + 2*λ_2(t)*λ_3(t)/λ_0(t))/(-2*λ_0(t) - 2*λ_3(t)**2/λ_0(t))) - (λ_2(t) - λ_1(t)*λ_3(t)/λ_0(t))*(2*λ_2(t) + 2*λ_1(t)*λ_3(t)/λ_0(t))/(-2*λ_0(t) - 2*λ_3(t)**2/λ_0(t)))))*R(t)/(2*λ_0(t)) + (-2*(-((2*λ_1(t) + 2*λ_2(t)*λ_3(t)/λ_0(t))*(λ_3(t) + λ_1(t)*λ_2(t)/λ_0(t) - (-2*λ_1(t) + 2*λ_2(t)*λ_3(t)/λ_0(t))*(λ_2(t) - λ_1(t)*λ_3(t)/λ_0(t))/(-2*λ_0(t) - 2*λ_3(t)**2/λ_0(t)))/((-2*λ_0(t) - 2*λ_3(t)**2/λ_0(t))*(-2*λ_0(t) - 2*λ_2(t)**2/λ_0(t) - (-2*λ_1(t) + 2*λ_2(t)*λ_3(t)/λ_0(t))*(2*λ_1(t) + 2*λ_2(t)*λ_3(t)/λ_0(t))/(-2*λ_0(t) - 2*λ_3(t)**2/λ_0(t)))) - (λ_2(t) - λ_1(t)*λ_3(t)/λ_0(t))/(-2*λ_0(t) - 2*λ_3(t)**2/λ_0(t)))*(2*λ_3(t) - 2*λ_1(t)*λ_2(t)/λ_0(t) - (2*λ_1(t) + 2*λ_2(t)*λ_3(t)/λ_0(t))*(2*λ_2(t) + 2*λ_1(t)*λ_3(t)/λ_0(t))/(-2*λ_0(t) - 2*λ_3(t)**2/λ_0(t)))/(λ_0(t) + λ_1(t)**2/λ_0(t) - (λ_3(t) + λ_1(t)*λ_2(t)/λ_0(t) - (-2*λ_1(t) + 2*λ_2(t)*λ_3(t)/λ_0(t))*(λ_2(t) - λ_1(t)*λ_3(t)/λ_0(t))/(-2*λ_0(t) - 2*λ_3(t)**2/λ_0(t)))*(2*λ_3(t) - 2*λ_1(t)*λ_2(t)/λ_0(t) - (2*λ_1(t) + 2*λ_2(t)*λ_3(t)/λ_0(t))*(2*λ_2(t) + 2*λ_1(t)*λ_3(t)/λ_0(t))/(-2*λ_0(t) - 2*λ_3(t)**2/λ_0(t)))/(-2*λ_0(t) - 2*λ_2(t)**2/λ_0(t) - (-2*λ_1(t) + 2*λ_2(t)*λ_3(t)/λ_0(t))*(2*λ_1(t) + 2*λ_2(t)*λ_3(t)/λ_0(t))/(-2*λ_0(t) - 2*λ_3(t)**2/λ_0(t))) - (λ_2(t) - λ_1(t)*λ_3(t)/λ_0(t))*(2*λ_2(t) + 2*λ_1(t)*λ_3(t)/λ_0(t))/(-2*λ_0(t) - 2*λ_3(t)**2/λ_0(t))) - (2*λ_1(t) + 2*λ_2(t)*λ_3(t)/λ_0(t))/(-2*λ_0(t) - 2*λ_3(t)**2/λ_0(t)))*λ_2(t)/(-2*λ_0(t) - 2*λ_2(t)**2/λ_0(t) - (-2*λ_1(t) + 2*λ_2(t)*λ_3(t)/λ_0(t))*(2*λ_1(t) + 2*λ_2(t)*λ_3(t)/λ_0(t))/(-2*λ_0(t) - 2*λ_3(t)**2/λ_0(t))) - 2*((2*λ_1(t) + 2*λ_2(t)*λ_3(t)/λ_0(t))*(λ_3(t) + λ_1(t)*λ_2(t)/λ_0(t) - (-2*λ_1(t) + 2*λ_2(t)*λ_3(t)/λ_0(t))*(λ_2(t) - λ_1(t)*λ_3(t)/λ_0(t))/(-2*λ_0(t) - 2*λ_3(t)**2/λ_0(t)))/((-2*λ_0(t) - 2*λ_3(t)**2/λ_0(t))*(-2*λ_0(t) - 2*λ_2(t)**2/λ_0(t) - (-2*λ_1(t) + 2*λ_2(t)*λ_3(t)/λ_0(t))*(2*λ_1(t) + 2*λ_2(t)*λ_3(t)/λ_0(t))/(-2*λ_0(t) - 2*λ_3(t)**2/λ_0(t)))) - (λ_2(t) - λ_1(t)*λ_3(t)/λ_0(t))/(-2*λ_0(t) - 2*λ_3(t)**2/λ_0(t)))*λ_1(t)/(λ_0(t) + λ_1(t)**2/λ_0(t) - (λ_3(t) + λ_1(t)*λ_2(t)/λ_0(t) - (-2*λ_1(t) + 2*λ_2(t)*λ_3(t)/λ_0(t))*(λ_2(t) - λ_1(t)*λ_3(t)/λ_0(t))/(-2*λ_0(t) - 2*λ_3(t)**2/λ_0(t)))*(2*λ_3(t) - 2*λ_1(t)*λ_2(t)/λ_0(t) - (2*λ_1(t) + 2*λ_2(t)*λ_3(t)/λ_0(t))*(2*λ_2(t) + 2*λ_1(t)*λ_3(t)/λ_0(t))/(-2*λ_0(t) - 2*λ_3(t)**2/λ_0(t)))/(-2*λ_0(t) - 2*λ_2(t)**2/λ_0(t) - (-2*λ_1(t) + 2*λ_2(t)*λ_3(t)/λ_0(t))*(2*λ_1(t) + 2*λ_2(t)*λ_3(t)/λ_0(t))/(-2*λ_0(t) - 2*λ_3(t)**2/λ_0(t))) - (λ_2(t) - λ_1(t)*λ_3(t)/λ_0(t))*(2*λ_2(t) + 2*λ_1(t)*λ_3(t)/λ_0(t))/(-2*λ_0(t) - 2*λ_3(t)**2/λ_0(t))) + 2*(-(-((2*λ_1(t) + 2*λ_2(t)*λ_3(t)/λ_0(t))*(λ_3(t) + λ_1(t)*λ_2(t)/λ_0(t) - (-2*λ_1(t) + 2*λ_2(t)*λ_3(t)/λ_0(t))*(λ_2(t) - λ_1(t)*λ_3(t)/λ_0(t))/(-2*λ_0(t) - 2*λ_3(t)**2/λ_0(t)))/((-2*λ_0(t) - 2*λ_3(t)**2/λ_0(t))*(-2*λ_0(t) - 2*λ_2(t)**2/λ_0(t) - (-2*λ_1(t) + 2*λ_2(t)*λ_3(t)/λ_0(t))*(2*λ_1(t) + 2*λ_2(t)*λ_3(t)/λ_0(t))/(-2*λ_0(t) - 2*λ_3(t)**2/λ_0(t)))) - (λ_2(t) - λ_1(t)*λ_3(t)/λ_0(t))/(-2*λ_0(t) - 2*λ_3(t)**2/λ_0(t)))*(2*λ_3(t) - 2*λ_1(t)*λ_2(t)/λ_0(t) - (2*λ_1(t) + 2*λ_2(t)*λ_3(t)/λ_0(t))*(2*λ_2(t) + 2*λ_1(t)*λ_3(t)/λ_0(t))/(-2*λ_0(t) - 2*λ_3(t)**2/λ_0(t)))/(λ_0(t) + λ_1(t)**2/λ_0(t) - (λ_3(t) + λ_1(t)*λ_2(t)/λ_0(t) - (-2*λ_1(t) + 2*λ_2(t)*λ_3(t)/λ_0(t))*(λ_2(t) - λ_1(t)*λ_3(t)/λ_0(t))/(-2*λ_0(t) - 2*λ_3(t)**2/λ_0(t)))*(2*λ_3(t) - 2*λ_1(t)*λ_2(t)/λ_0(t) - (2*λ_1(t) + 2*λ_2(t)*λ_3(t)/λ_0(t))*(2*λ_2(t) + 2*λ_1(t)*λ_3(t)/λ_0(t))/(-2*λ_0(t) - 2*λ_3(t)**2/λ_0(t)))/(-2*λ_0(t) - 2*λ_2(t)**2/λ_0(t) - (-2*λ_1(t) + 2*λ_2(t)*λ_3(t)/λ_0(t))*(2*λ_1(t) + 2*λ_2(t)*λ_3(t)/λ_0(t))/(-2*λ_0(t) - 2*λ_3(t)**2/λ_0(t))) - (λ_2(t) - λ_1(t)*λ_3(t)/λ_0(t))*(2*λ_2(t) + 2*λ_1(t)*λ_3(t)/λ_0(t))/(-2*λ_0(t) - 2*λ_3(t)**2/λ_0(t))) - (2*λ_1(t) + 2*λ_2(t)*λ_3(t)/λ_0(t))/(-2*λ_0(t) - 2*λ_3(t)**2/λ_0(t)))*(-2*λ_1(t) + 2*λ_2(t)*λ_3(t)/λ_0(t))/(-2*λ_0(t) - 2*λ_2(t)**2/λ_0(t) - (-2*λ_1(t) + 2*λ_2(t)*λ_3(t)/λ_0(t))*(2*λ_1(t) + 2*λ_2(t)*λ_3(t)/λ_0(t))/(-2*λ_0(t) - 2*λ_3(t)**2/λ_0(t))) - ((2*λ_1(t) + 2*λ_2(t)*λ_3(t)/λ_0(t))*(λ_3(t) + λ_1(t)*λ_2(t)/λ_0(t) - (-2*λ_1(t) + 2*λ_2(t)*λ_3(t)/λ_0(t))*(λ_2(t) - λ_1(t)*λ_3(t)/λ_0(t))/(-2*λ_0(t) - 2*λ_3(t)**2/λ_0(t)))/((-2*λ_0(t) - 2*λ_3(t)**2/λ_0(t))*(-2*λ_0(t) - 2*λ_2(t)**2/λ_0(t) - (-2*λ_1(t) + 2*λ_2(t)*λ_3(t)/λ_0(t))*(2*λ_1(t) + 2*λ_2(t)*λ_3(t)/λ_0(t))/(-2*λ_0(t) - 2*λ_3(t)**2/λ_0(t)))) - (λ_2(t) - λ_1(t)*λ_3(t)/λ_0(t))/(-2*λ_0(t) - 2*λ_3(t)**2/λ_0(t)))*(2*λ_2(t) + 2*λ_1(t)*λ_3(t)/λ_0(t))/(λ_0(t) + λ_1(t)**2/λ_0(t) - (λ_3(t) + λ_1(t)*λ_2(t)/λ_0(t) - (-2*λ_1(t) + 2*λ_2(t)*λ_3(t)/λ_0(t))*(λ_2(t) - λ_1(t)*λ_3(t)/λ_0(t))/(-2*λ_0(t) - 2*λ_3(t)**2/λ_0(t)))*(2*λ_3(t) - 2*λ_1(t)*λ_2(t)/λ_0(t) - (2*λ_1(t) + 2*λ_2(t)*λ_3(t)/λ_0(t))*(2*λ_2(t) + 2*λ_1(t)*λ_3(t)/λ_0(t))/(-2*λ_0(t) - 2*λ_3(t)**2/λ_0(t)))/(-2*λ_0(t) - 2*λ_2(t)**2/λ_0(t) - (-2*λ_1(t) + 2*λ_2(t)*λ_3(t)/λ_0(t))*(2*λ_1(t) + 2*λ_2(t)*λ_3(t)/λ_0(t))/(-2*λ_0(t) - 2*λ_3(t)**2/λ_0(t))) - (λ_2(t) - λ_1(t)*λ_3(t)/λ_0(t))*(2*λ_2(t) + 2*λ_1(t)*λ_3(t)/λ_0(t))/(-2*λ_0(t) - 2*λ_3(t)**2/λ_0(t))) + 1)*λ_3(t)/(-2*λ_0(t) - 2*λ_3(t)**2/λ_0(t)))*Q(t)/(2*λ_0(t)) + (-2*(-(-λ_2(t)/λ_0(t) - (2*λ_1(t) + 2*λ_2(t)*λ_3(t)/λ_0(t))*λ_3(t)/((-2*λ_0(t) - 2*λ_3(t)**2/λ_0(t))*λ_0(t)))*(λ_3(t) + λ_1(t)*λ_2(t)/λ_0(t) - (-2*λ_1(t) + 2*λ_2(t)*λ_3(t)/λ_0(t))*(λ_2(t) - λ_1(t)*λ_3(t)/λ_0(t))/(-2*λ_0(t) - 2*λ_3(t)**2/λ_0(t)))/(-2*λ_0(t) - 2*λ_2(t)**2/λ_0(t) - (-2*λ_1(t) + 2*λ_2(t)*λ_3(t)/λ_0(t))*(2*λ_1(t) + 2*λ_2(t)*λ_3(t)/λ_0(t))/(-2*λ_0(t) - 2*λ_3(t)**2/λ_0(t))) + λ_1(t)/(2*λ_0(t)) - (λ_2(t) - λ_1(t)*λ_3(t)/λ_0(t))*λ_3(t)/((-2*λ_0(t) - 2*λ_3(t)**2/λ_0(t))*λ_0(t)))*λ_1(t)/(λ_0(t) + λ_1(t)**2/λ_0(t) - (λ_3(t) + λ_1(t)*λ_2(t)/λ_0(t) - (-2*λ_1(t) + 2*λ_2(t)*λ_3(t)/λ_0(t))*(λ_2(t) - λ_1(t)*λ_3(t)/λ_0(t))/(-2*λ_0(t) - 2*λ_3(t)**2/λ_0(t)))*(2*λ_3(t) - 2*λ_1(t)*λ_2(t)/λ_0(t) - (2*λ_1(t) + 2*λ_2(t)*λ_3(t)/λ_0(t))*(2*λ_2(t) + 2*λ_1(t)*λ_3(t)/λ_0(t))/(-2*λ_0(t) - 2*λ_3(t)**2/λ_0(t)))/(-2*λ_0(t) - 2*λ_2(t)**2/λ_0(t) - (-2*λ_1(t) + 2*λ_2(t)*λ_3(t)/λ_0(t))*(2*λ_1(t) + 2*λ_2(t)*λ_3(t)/λ_0(t))/(-2*λ_0(t) - 2*λ_3(t)**2/λ_0(t))) - (λ_2(t) - λ_1(t)*λ_3(t)/λ_0(t))*(2*λ_2(t) + 2*λ_1(t)*λ_3(t)/λ_0(t))/(-2*λ_0(t) - 2*λ_3(t)**2/λ_0(t))) - 2*(-(-(-λ_2(t)/λ_0(t) - (2*λ_1(t) + 2*λ_2(t)*λ_3(t)/λ_0(t))*λ_3(t)/((-2*λ_0(t) - 2*λ_3(t)**2/λ_0(t))*λ_0(t)))*(λ_3(t) + λ_1(t)*λ_2(t)/λ_0(t) - (-2*λ_1(t) + 2*λ_2(t)*λ_3(t)/λ_0(t))*(λ_2(t) - λ_1(t)*λ_3(t)/λ_0(t))/(-2*λ_0(t) - 2*λ_3(t)**2/λ_0(t)))/(-2*λ_0(t) - 2*λ_2(t)**2/λ_0(t) - (-2*λ_1(t) + 2*λ_2(t)*λ_3(t)/λ_0(t))*(2*λ_1(t) + 2*λ_2(t)*λ_3(t)/λ_0(t))/(-2*λ_0(t) - 2*λ_3(t)**2/λ_0(t))) + λ_1(t)/(2*λ_0(t)) - (λ_2(t) - λ_1(t)*λ_3(t)/λ_0(t))*λ_3(t)/((-2*λ_0(t) - 2*λ_3(t)**2/λ_0(t))*λ_0(t)))*(2*λ_3(t) - 2*λ_1(t)*λ_2(t)/λ_0(t) - (2*λ_1(t) + 2*λ_2(t)*λ_3(t)/λ_0(t))*(2*λ_2(t) + 2*λ_1(t)*λ_3(t)/λ_0(t))/(-2*λ_0(t) - 2*λ_3(t)**2/λ_0(t)))/(λ_0(t) + λ_1(t)**2/λ_0(t) - (λ_3(t) + λ_1(t)*λ_2(t)/λ_0(t) - (-2*λ_1(t) + 2*λ_2(t)*λ_3(t)/λ_0(t))*(λ_2(t) - λ_1(t)*λ_3(t)/λ_0(t))/(-2*λ_0(t) - 2*λ_3(t)**2/λ_0(t)))*(2*λ_3(t) - 2*λ_1(t)*λ_2(t)/λ_0(t) - (2*λ_1(t) + 2*λ_2(t)*λ_3(t)/λ_0(t))*(2*λ_2(t) + 2*λ_1(t)*λ_3(t)/λ_0(t))/(-2*λ_0(t) - 2*λ_3(t)**2/λ_0(t)))/(-2*λ_0(t) - 2*λ_2(t)**2/λ_0(t) - (-2*λ_1(t) + 2*λ_2(t)*λ_3(t)/λ_0(t))*(2*λ_1(t) + 2*λ_2(t)*λ_3(t)/λ_0(t))/(-2*λ_0(t) - 2*λ_3(t)**2/λ_0(t))) - (λ_2(t) - λ_1(t)*λ_3(t)/λ_0(t))*(2*λ_2(t) + 2*λ_1(t)*λ_3(t)/λ_0(t))/(-2*λ_0(t) - 2*λ_3(t)**2/λ_0(t))) - λ_2(t)/λ_0(t) - (2*λ_1(t) + 2*λ_2(t)*λ_3(t)/λ_0(t))*λ_3(t)/((-2*λ_0(t) - 2*λ_3(t)**2/λ_0(t))*λ_0(t)))*λ_2(t)/(-2*λ_0(t) - 2*λ_2(t)**2/λ_0(t) - (-2*λ_1(t) + 2*λ_2(t)*λ_3(t)/λ_0(t))*(2*λ_1(t) + 2*λ_2(t)*λ_3(t)/λ_0(t))/(-2*λ_0(t) - 2*λ_3(t)**2/λ_0(t))) + 1 + 2*(-(-2*λ_1(t) + 2*λ_2(t)*λ_3(t)/λ_0(t))*(-(-(-λ_2(t)/λ_0(t) - (2*λ_1(t) + 2*λ_2(t)*λ_3(t)/λ_0(t))*λ_3(t)/((-2*λ_0(t) - 2*λ_3(t)**2/λ_0(t))*λ_0(t)))*(λ_3(t) + λ_1(t)*λ_2(t)/λ_0(t) - (-2*λ_1(t) + 2*λ_2(t)*λ_3(t)/λ_0(t))*(λ_2(t) - λ_1(t)*λ_3(t)/λ_0(t))/(-2*λ_0(t) - 2*λ_3(t)**2/λ_0(t)))/(-2*λ_0(t) - 2*λ_2(t)**2/λ_0(t) - (-2*λ_1(t) + 2*λ_2(t)*λ_3(t)/λ_0(t))*(2*λ_1(t) + 2*λ_2(t)*λ_3(t)/λ_0(t))/(-2*λ_0(t) - 2*λ_3(t)**2/λ_0(t))) + λ_1(t)/(2*λ_0(t)) - (λ_2(t) - λ_1(t)*λ_3(t)/λ_0(t))*λ_3(t)/((-2*λ_0(t) - 2*λ_3(t)**2/λ_0(t))*λ_0(t)))*(2*λ_3(t) - 2*λ_1(t)*λ_2(t)/λ_0(t) - (2*λ_1(t) + 2*λ_2(t)*λ_3(t)/λ_0(t))*(2*λ_2(t) + 2*λ_1(t)*λ_3(t)/λ_0(t))/(-2*λ_0(t) - 2*λ_3(t)**2/λ_0(t)))/(λ_0(t) + λ_1(t)**2/λ_0(t) - (λ_3(t) + λ_1(t)*λ_2(t)/λ_0(t) - (-2*λ_1(t) + 2*λ_2(t)*λ_3(t)/λ_0(t))*(λ_2(t) - λ_1(t)*λ_3(t)/λ_0(t))/(-2*λ_0(t) - 2*λ_3(t)**2/λ_0(t)))*(2*λ_3(t) - 2*λ_1(t)*λ_2(t)/λ_0(t) - (2*λ_1(t) + 2*λ_2(t)*λ_3(t)/λ_0(t))*(2*λ_2(t) + 2*λ_1(t)*λ_3(t)/λ_0(t))/(-2*λ_0(t) - 2*λ_3(t)**2/λ_0(t)))/(-2*λ_0(t) - 2*λ_2(t)**2/λ_0(t) - (-2*λ_1(t) + 2*λ_2(t)*λ_3(t)/λ_0(t))*(2*λ_1(t) + 2*λ_2(t)*λ_3(t)/λ_0(t))/(-2*λ_0(t) - 2*λ_3(t)**2/λ_0(t))) - (λ_2(t) - λ_1(t)*λ_3(t)/λ_0(t))*(2*λ_2(t) + 2*λ_1(t)*λ_3(t)/λ_0(t))/(-2*λ_0(t) - 2*λ_3(t)**2/λ_0(t))) - λ_2(t)/λ_0(t) - (2*λ_1(t) + 2*λ_2(t)*λ_3(t)/λ_0(t))*λ_3(t)/((-2*λ_0(t) - 2*λ_3(t)**2/λ_0(t))*λ_0(t)))/(-2*λ_0(t) - 2*λ_2(t)**2/λ_0(t) - (-2*λ_1(t) + 2*λ_2(t)*λ_3(t)/λ_0(t))*(2*λ_1(t) + 2*λ_2(t)*λ_3(t)/λ_0(t))/(-2*λ_0(t) - 2*λ_3(t)**2/λ_0(t))) - (2*λ_2(t) + 2*λ_1(t)*λ_3(t)/λ_0(t))*(-(-λ_2(t)/λ_0(t) - (2*λ_1(t) + 2*λ_2(t)*λ_3(t)/λ_0(t))*λ_3(t)/((-2*λ_0(t) - 2*λ_3(t)**2/λ_0(t))*λ_0(t)))*(λ_3(t) + λ_1(t)*λ_2(t)/λ_0(t) - (-2*λ_1(t) + 2*λ_2(t)*λ_3(t)/λ_0(t))*(λ_2(t) - λ_1(t)*λ_3(t)/λ_0(t))/(-2*λ_0(t) - 2*λ_3(t)**2/λ_0(t)))/(-2*λ_0(t) - 2*λ_2(t)**2/λ_0(t) - (-2*λ_1(t) + 2*λ_2(t)*λ_3(t)/λ_0(t))*(2*λ_1(t) + 2*λ_2(t)*λ_3(t)/λ_0(t))/(-2*λ_0(t) - 2*λ_3(t)**2/λ_0(t))) + λ_1(t)/(2*λ_0(t)) - (λ_2(t) - λ_1(t)*λ_3(t)/λ_0(t))*λ_3(t)/((-2*λ_0(t) - 2*λ_3(t)**2/λ_0(t))*λ_0(t)))/(λ_0(t) + λ_1(t)**2/λ_0(t) - (λ_3(t) + λ_1(t)*λ_2(t)/λ_0(t) - (-2*λ_1(t) + 2*λ_2(t)*λ_3(t)/λ_0(t))*(λ_2(t) - λ_1(t)*λ_3(t)/λ_0(t))/(-2*λ_0(t) - 2*λ_3(t)**2/λ_0(t)))*(2*λ_3(t) - 2*λ_1(t)*λ_2(t)/λ_0(t) - (2*λ_1(t) + 2*λ_2(t)*λ_3(t)/λ_0(t))*(2*λ_2(t) + 2*λ_1(t)*λ_3(t)/λ_0(t))/(-2*λ_0(t) - 2*λ_3(t)**2/λ_0(t)))/(-2*λ_0(t) - 2*λ_2(t)**2/λ_0(t) - (-2*λ_1(t) + 2*λ_2(t)*λ_3(t)/λ_0(t))*(2*λ_1(t) + 2*λ_2(t)*λ_3(t)/λ_0(t))/(-2*λ_0(t) - 2*λ_3(t)**2/λ_0(t))) - (λ_2(t) - λ_1(t)*λ_3(t)/λ_0(t))*(2*λ_2(t) + 2*λ_1(t)*λ_3(t)/λ_0(t))/(-2*λ_0(t) - 2*λ_3(t)**2/λ_0(t))) + λ_3(t)/λ_0(t))*λ_3(t)/(-2*λ_0(t) - 2*λ_3(t)**2/λ_0(t)))*P(t)/(2*λ_0(t))\n"
     ]
    }
   ],
   "source": [
    "print(KM_dict['explicit'].forcing_kin[0])"
   ]
  },
  {
   "cell_type": "code",
   "execution_count": 16,
   "id": "21e77726",
   "metadata": {},
   "outputs": [
    {
     "data": {
      "image/png": "[encoded data removed]",
      "text/latex": [
       "$\\displaystyle - \\frac{\\left(\\frac{\\left(2 λ_{1} + \\frac{2 λ_{2} λ_{3}}{λ_{0}}\\right) \\left(λ_{3} + \\frac{λ_{1} λ_{2}}{λ_{0}} - \\frac{\\left(- 2 λ_{1} + \\frac{2 λ_{2} λ_{3}}{λ_{0}}\\right) \\left(λ_{2} - \\frac{λ_{1} λ_{3}}{λ_{0}}\\right)}{- 2 λ_{0} - \\frac{2 λ_{3}^{2}}{λ_{0}}}\\right)}{\\left(- 2 λ_{0} - \\frac{2 λ_{3}^{2}}{λ_{0}}\\right) \\left(- 2 λ_{0} - \\frac{2 λ_{2}^{2}}{λ_{0}} - \\frac{\\left(- 2 λ_{1} + \\frac{2 λ_{2} λ_{3}}{λ_{0}}\\right) \\left(2 λ_{1} + \\frac{2 λ_{2} λ_{3}}{λ_{0}}\\right)}{- 2 λ_{0} - \\frac{2 λ_{3}^{2}}{λ_{0}}}\\right)} - \\frac{λ_{2} - \\frac{λ_{1} λ_{3}}{λ_{0}}}{- 2 λ_{0} - \\frac{2 λ_{3}^{2}}{λ_{0}}}\\right) Q}{λ_{0} + \\frac{λ_{1}^{2}}{λ_{0}} - \\frac{\\left(λ_{3} + \\frac{λ_{1} λ_{2}}{λ_{0}} - \\frac{\\left(- 2 λ_{1} + \\frac{2 λ_{2} λ_{3}}{λ_{0}}\\right) \\left(λ_{2} - \\frac{λ_{1} λ_{3}}{λ_{0}}\\right)}{- 2 λ_{0} - \\frac{2 λ_{3}^{2}}{λ_{0}}}\\right) \\left(2 λ_{3} - \\frac{2 λ_{1} λ_{2}}{λ_{0}} - \\frac{\\left(2 λ_{1} + \\frac{2 λ_{2} λ_{3}}{λ_{0}}\\right) \\left(2 λ_{2} + \\frac{2 λ_{1} λ_{3}}{λ_{0}}\\right)}{- 2 λ_{0} - \\frac{2 λ_{3}^{2}}{λ_{0}}}\\right)}{- 2 λ_{0} - \\frac{2 λ_{2}^{2}}{λ_{0}} - \\frac{\\left(- 2 λ_{1} + \\frac{2 λ_{2} λ_{3}}{λ_{0}}\\right) \\left(2 λ_{1} + \\frac{2 λ_{2} λ_{3}}{λ_{0}}\\right)}{- 2 λ_{0} - \\frac{2 λ_{3}^{2}}{λ_{0}}}} - \\frac{\\left(λ_{2} - \\frac{λ_{1} λ_{3}}{λ_{0}}\\right) \\left(2 λ_{2} + \\frac{2 λ_{1} λ_{3}}{λ_{0}}\\right)}{- 2 λ_{0} - \\frac{2 λ_{3}^{2}}{λ_{0}}}} - \\frac{\\left(- \\frac{\\left(- \\frac{λ_{2}}{λ_{0}} - \\frac{\\left(2 λ_{1} + \\frac{2 λ_{2} λ_{3}}{λ_{0}}\\right) λ_{3}}{\\left(- 2 λ_{0} - \\frac{2 λ_{3}^{2}}{λ_{0}}\\right) λ_{0}}\\right) \\left(λ_{3} + \\frac{λ_{1} λ_{2}}{λ_{0}} - \\frac{\\left(- 2 λ_{1} + \\frac{2 λ_{2} λ_{3}}{λ_{0}}\\right) \\left(λ_{2} - \\frac{λ_{1} λ_{3}}{λ_{0}}\\right)}{- 2 λ_{0} - \\frac{2 λ_{3}^{2}}{λ_{0}}}\\right)}{- 2 λ_{0} - \\frac{2 λ_{2}^{2}}{λ_{0}} - \\frac{\\left(- 2 λ_{1} + \\frac{2 λ_{2} λ_{3}}{λ_{0}}\\right) \\left(2 λ_{1} + \\frac{2 λ_{2} λ_{3}}{λ_{0}}\\right)}{- 2 λ_{0} - \\frac{2 λ_{3}^{2}}{λ_{0}}}} + \\frac{λ_{1}}{2 λ_{0}} - \\frac{\\left(λ_{2} - \\frac{λ_{1} λ_{3}}{λ_{0}}\\right) λ_{3}}{\\left(- 2 λ_{0} - \\frac{2 λ_{3}^{2}}{λ_{0}}\\right) λ_{0}}\\right) P}{λ_{0} + \\frac{λ_{1}^{2}}{λ_{0}} - \\frac{\\left(λ_{3} + \\frac{λ_{1} λ_{2}}{λ_{0}} - \\frac{\\left(- 2 λ_{1} + \\frac{2 λ_{2} λ_{3}}{λ_{0}}\\right) \\left(λ_{2} - \\frac{λ_{1} λ_{3}}{λ_{0}}\\right)}{- 2 λ_{0} - \\frac{2 λ_{3}^{2}}{λ_{0}}}\\right) \\left(2 λ_{3} - \\frac{2 λ_{1} λ_{2}}{λ_{0}} - \\frac{\\left(2 λ_{1} + \\frac{2 λ_{2} λ_{3}}{λ_{0}}\\right) \\left(2 λ_{2} + \\frac{2 λ_{1} λ_{3}}{λ_{0}}\\right)}{- 2 λ_{0} - \\frac{2 λ_{3}^{2}}{λ_{0}}}\\right)}{- 2 λ_{0} - \\frac{2 λ_{2}^{2}}{λ_{0}} - \\frac{\\left(- 2 λ_{1} + \\frac{2 λ_{2} λ_{3}}{λ_{0}}\\right) \\left(2 λ_{1} + \\frac{2 λ_{2} λ_{3}}{λ_{0}}\\right)}{- 2 λ_{0} - \\frac{2 λ_{3}^{2}}{λ_{0}}}} - \\frac{\\left(λ_{2} - \\frac{λ_{1} λ_{3}}{λ_{0}}\\right) \\left(2 λ_{2} + \\frac{2 λ_{1} λ_{3}}{λ_{0}}\\right)}{- 2 λ_{0} - \\frac{2 λ_{3}^{2}}{λ_{0}}}} + \\frac{\\left(λ_{3} + \\frac{λ_{1} λ_{2}}{λ_{0}} - \\frac{\\left(- 2 λ_{1} + \\frac{2 λ_{2} λ_{3}}{λ_{0}}\\right) \\left(λ_{2} - \\frac{λ_{1} λ_{3}}{λ_{0}}\\right)}{- 2 λ_{0} - \\frac{2 λ_{3}^{2}}{λ_{0}}}\\right) R}{\\left(- 2 λ_{0} - \\frac{2 λ_{2}^{2}}{λ_{0}} - \\frac{\\left(- 2 λ_{1} + \\frac{2 λ_{2} λ_{3}}{λ_{0}}\\right) \\left(2 λ_{1} + \\frac{2 λ_{2} λ_{3}}{λ_{0}}\\right)}{- 2 λ_{0} - \\frac{2 λ_{3}^{2}}{λ_{0}}}\\right) \\left(λ_{0} + \\frac{λ_{1}^{2}}{λ_{0}} - \\frac{\\left(λ_{3} + \\frac{λ_{1} λ_{2}}{λ_{0}} - \\frac{\\left(- 2 λ_{1} + \\frac{2 λ_{2} λ_{3}}{λ_{0}}\\right) \\left(λ_{2} - \\frac{λ_{1} λ_{3}}{λ_{0}}\\right)}{- 2 λ_{0} - \\frac{2 λ_{3}^{2}}{λ_{0}}}\\right) \\left(2 λ_{3} - \\frac{2 λ_{1} λ_{2}}{λ_{0}} - \\frac{\\left(2 λ_{1} + \\frac{2 λ_{2} λ_{3}}{λ_{0}}\\right) \\left(2 λ_{2} + \\frac{2 λ_{1} λ_{3}}{λ_{0}}\\right)}{- 2 λ_{0} - \\frac{2 λ_{3}^{2}}{λ_{0}}}\\right)}{- 2 λ_{0} - \\frac{2 λ_{2}^{2}}{λ_{0}} - \\frac{\\left(- 2 λ_{1} + \\frac{2 λ_{2} λ_{3}}{λ_{0}}\\right) \\left(2 λ_{1} + \\frac{2 λ_{2} λ_{3}}{λ_{0}}\\right)}{- 2 λ_{0} - \\frac{2 λ_{3}^{2}}{λ_{0}}}} - \\frac{\\left(λ_{2} - \\frac{λ_{1} λ_{3}}{λ_{0}}\\right) \\left(2 λ_{2} + \\frac{2 λ_{1} λ_{3}}{λ_{0}}\\right)}{- 2 λ_{0} - \\frac{2 λ_{3}^{2}}{λ_{0}}}\\right)}$"
      ],
      "text/plain": [
       "                             ⎛                    ⎛             ⎛        2⋅λ₂⋅λ₃⎞ ⎛     λ₁⋅λ₃⎞⎞     \n",
       "                             ⎜                    ⎜             ⎜-2⋅λ₁ + ───────⎟⋅⎜λ₂ - ─────⎟⎟     \n",
       "                             ⎜   ⎛       2⋅λ₂⋅λ₃⎞ ⎜     λ₁⋅λ₂   ⎝           λ₀  ⎠ ⎝       λ₀ ⎠⎟     \n",
       "                             ⎜   ⎜2⋅λ₁ + ───────⎟⋅⎜λ₃ + ───── - ──────────────────────────────⎟     \n",
       "                             ⎜   ⎝          λ₀  ⎠ ⎜       λ₀                        2         ⎟     \n",
       "                             ⎜                    ⎜                             2⋅λ₃          ⎟     \n",
       "                             ⎜                    ⎜                     -2⋅λ₀ - ─────         ⎟     \n",
       "                             ⎜                    ⎝                               λ₀          ⎠     \n",
       "                             ⎜──────────────────────────────────────────────────────────────────── -\n",
       "                             ⎜                ⎛                ⎛        2⋅λ₂⋅λ₃⎞ ⎛       2⋅λ₂⋅λ₃⎞⎞  \n",
       "                             ⎜⎛            2⎞ ⎜            2   ⎜-2⋅λ₁ + ───────⎟⋅⎜2⋅λ₁ + ───────⎟⎟  \n",
       "                             ⎜⎜        2⋅λ₃ ⎟ ⎜        2⋅λ₂    ⎝           λ₀  ⎠ ⎝          λ₀  ⎠⎟  \n",
       "                             ⎜⎜-2⋅λ₀ - ─────⎟⋅⎜-2⋅λ₀ - ───── - ──────────────────────────────────⎟  \n",
       "                             ⎜⎝          λ₀ ⎠ ⎜          λ₀                          2           ⎟  \n",
       "                             ⎜                ⎜                                  2⋅λ₃            ⎟  \n",
       "                             ⎜                ⎜                          -2⋅λ₀ - ─────           ⎟  \n",
       "                             ⎝                ⎝                                    λ₀            ⎠  \n",
       "- ──────────────────────────────────────────────────────────────────────────────────────────────────\n",
       "             ⎛             ⎛        2⋅λ₂⋅λ₃⎞ ⎛     λ₁⋅λ₃⎞⎞ ⎛                 ⎛       2⋅λ₂⋅λ₃⎞ ⎛     \n",
       "             ⎜             ⎜-2⋅λ₁ + ───────⎟⋅⎜λ₂ - ─────⎟⎟ ⎜                 ⎜2⋅λ₁ + ───────⎟⋅⎜2⋅λ₂ \n",
       "             ⎜     λ₁⋅λ₂   ⎝           λ₀  ⎠ ⎝       λ₀ ⎠⎟ ⎜       2⋅λ₁⋅λ₂   ⎝          λ₀  ⎠ ⎝     \n",
       "             ⎜λ₃ + ───── - ──────────────────────────────⎟⋅⎜2⋅λ₃ - ─────── - ───────────────────────\n",
       "             ⎜       λ₀                        2         ⎟ ⎜          λ₀                           2\n",
       "             ⎜                             2⋅λ₃          ⎟ ⎜                                   2⋅λ₃ \n",
       "         2   ⎜                     -2⋅λ₀ - ─────         ⎟ ⎜                           -2⋅λ₀ - ─────\n",
       "       λ₁    ⎝                               λ₀          ⎠ ⎝                                     λ₀ \n",
       "  λ₀ + ─── - ───────────────────────────────────────────────────────────────────────────────────────\n",
       "        λ₀                                           ⎛        2⋅λ₂⋅λ₃⎞ ⎛       2⋅λ₂⋅λ₃⎞             \n",
       "                                                 2   ⎜-2⋅λ₁ + ───────⎟⋅⎜2⋅λ₁ + ───────⎟             \n",
       "                                             2⋅λ₂    ⎝           λ₀  ⎠ ⎝          λ₀  ⎠             \n",
       "                                     -2⋅λ₀ - ───── - ──────────────────────────────────             \n",
       "                                               λ₀                          2                        \n",
       "                                                                       2⋅λ₃                         \n",
       "                                                               -2⋅λ₀ - ─────                        \n",
       "                                                                         λ₀                         \n",
       "\n",
       "              ⎞                                                ⎛  ⎛       ⎛       2⋅λ₂⋅λ₃⎞   ⎞ ⎛    \n",
       "              ⎟                                                ⎜  ⎜       ⎜2⋅λ₁ + ───────⎟⋅λ₃⎟ ⎜    \n",
       "              ⎟                                                ⎜  ⎜  λ₂   ⎝          λ₀  ⎠   ⎟ ⎜    \n",
       "              ⎟                                                ⎜  ⎜- ── - ───────────────────⎟⋅⎜λ₃ +\n",
       "              ⎟                                                ⎜  ⎜  λ₀    ⎛            2⎞   ⎟ ⎜    \n",
       "        λ₁⋅λ₃ ⎟                                                ⎜  ⎜        ⎜        2⋅λ₃ ⎟   ⎟ ⎜    \n",
       "   λ₂ - ───── ⎟                                                ⎜  ⎜        ⎜-2⋅λ₀ - ─────⎟⋅λ₀⎟ ⎜    \n",
       "          λ₀  ⎟                                                ⎜  ⎝        ⎝          λ₀ ⎠   ⎠ ⎝    \n",
       " ─────────────⎟⋅Q                                              ⎜- ──────────────────────────────────\n",
       "             2⎟                                                ⎜                              ⎛     \n",
       "         2⋅λ₃ ⎟                                                ⎜                          2   ⎜-2⋅λ₁\n",
       " -2⋅λ₀ - ─────⎟                                                ⎜                      2⋅λ₂    ⎝     \n",
       "           λ₀ ⎟                                                ⎜              -2⋅λ₀ - ───── - ──────\n",
       "              ⎟                                                ⎜                        λ₀          \n",
       "              ⎟                                                ⎜                                    \n",
       "              ⎟                                                ⎜                                    \n",
       "              ⎠                                                ⎝                                    \n",
       "─────────────────────────────────────────── - ──────────────────────────────────────────────────────\n",
       "  2⋅λ₁⋅λ₃⎞⎞                                              ⎛             ⎛        2⋅λ₂⋅λ₃⎞ ⎛     λ₁⋅λ₃\n",
       "+ ───────⎟⎟                                              ⎜             ⎜-2⋅λ₁ + ───────⎟⋅⎜λ₂ - ─────\n",
       "     λ₀  ⎠⎟                                              ⎜     λ₁⋅λ₂   ⎝           λ₀  ⎠ ⎝       λ₀ \n",
       "──────────⎟                                              ⎜λ₃ + ───── - ─────────────────────────────\n",
       "          ⎟                                              ⎜       λ₀                        2        \n",
       "          ⎟   ⎛     λ₁⋅λ₃⎞ ⎛       2⋅λ₁⋅λ₃⎞              ⎜                             2⋅λ₃         \n",
       "          ⎟   ⎜λ₂ - ─────⎟⋅⎜2⋅λ₂ + ───────⎟          2   ⎜                     -2⋅λ₀ - ─────        \n",
       "          ⎠   ⎝       λ₀ ⎠ ⎝          λ₀  ⎠        λ₁    ⎝                               λ₀         \n",
       "─────────── - ─────────────────────────────   λ₀ + ─── - ───────────────────────────────────────────\n",
       "                                  2                 λ₀                                           ⎛  \n",
       "                              2⋅λ₃                                                           2   ⎜-2\n",
       "                      -2⋅λ₀ - ─────                                                      2⋅λ₂    ⎝  \n",
       "                                λ₀                                               -2⋅λ₀ - ───── - ───\n",
       "                                                                                           λ₀       \n",
       "                                                                                                    \n",
       "                                                                                                    \n",
       "                                                                                                    \n",
       "\n",
       "         ⎛        2⋅λ₂⋅λ₃⎞ ⎛     λ₁⋅λ₃⎞⎞                            ⎞                               \n",
       "         ⎜-2⋅λ₁ + ───────⎟⋅⎜λ₂ - ─────⎟⎟                            ⎟                               \n",
       " λ₁⋅λ₂   ⎝           λ₀  ⎠ ⎝       λ₀ ⎠⎟                            ⎟                               \n",
       " ───── - ──────────────────────────────⎟                            ⎟                               \n",
       "   λ₀                        2         ⎟                            ⎟                               \n",
       "                         2⋅λ₃          ⎟           ⎛     λ₁⋅λ₃⎞     ⎟                               \n",
       "                 -2⋅λ₀ - ─────         ⎟           ⎜λ₂ - ─────⎟⋅λ₃  ⎟                               \n",
       "                           λ₀          ⎠    λ₁     ⎝       λ₀ ⎠     ⎟                               \n",
       "──────────────────────────────────────── + ──── - ──────────────────⎟⋅P                             \n",
       "   2⋅λ₂⋅λ₃⎞ ⎛       2⋅λ₂⋅λ₃⎞               2⋅λ₀   ⎛            2⎞   ⎟                               \n",
       " + ───────⎟⋅⎜2⋅λ₁ + ───────⎟                      ⎜        2⋅λ₃ ⎟   ⎟                               \n",
       "      λ₀  ⎠ ⎝          λ₀  ⎠                      ⎜-2⋅λ₀ - ─────⎟⋅λ₀⎟                               \n",
       "────────────────────────────                      ⎝          λ₀ ⎠   ⎟                               \n",
       "                2                                                   ⎟                               \n",
       "            2⋅λ₃                                                    ⎟                               \n",
       "    -2⋅λ₀ - ─────                                                   ⎟                               \n",
       "              λ₀                                                    ⎠                               \n",
       "─────────────────────────────────────────────────────────────────────────────────────── + ──────────\n",
       "⎞⎞ ⎛                 ⎛       2⋅λ₂⋅λ₃⎞ ⎛       2⋅λ₁⋅λ₃⎞⎞                                             \n",
       "⎟⎟ ⎜                 ⎜2⋅λ₁ + ───────⎟⋅⎜2⋅λ₂ + ───────⎟⎟                                             \n",
       "⎠⎟ ⎜       2⋅λ₁⋅λ₂   ⎝          λ₀  ⎠ ⎝          λ₀  ⎠⎟                                             \n",
       "─⎟⋅⎜2⋅λ₃ - ─────── - ─────────────────────────────────⎟                                             \n",
       " ⎟ ⎜          λ₀                           2          ⎟                                             \n",
       " ⎟ ⎜                                   2⋅λ₃           ⎟   ⎛     λ₁⋅λ₃⎞ ⎛       2⋅λ₁⋅λ₃⎞   ⎛         \n",
       " ⎟ ⎜                           -2⋅λ₀ - ─────          ⎟   ⎜λ₂ - ─────⎟⋅⎜2⋅λ₂ + ───────⎟   ⎜         \n",
       " ⎠ ⎝                                     λ₀           ⎠   ⎝       λ₀ ⎠ ⎝          λ₀  ⎠   ⎜        2\n",
       "─────────────────────────────────────────────────────── - ─────────────────────────────   ⎜-2⋅λ₀ - ─\n",
       "      2⋅λ₂⋅λ₃⎞ ⎛       2⋅λ₂⋅λ₃⎞                                               2           ⎜         \n",
       "⋅λ₁ + ───────⎟⋅⎜2⋅λ₁ + ───────⎟                                           2⋅λ₃            ⎜         \n",
       "         λ₀  ⎠ ⎝          λ₀  ⎠                                   -2⋅λ₀ - ─────           ⎜         \n",
       "───────────────────────────────                                             λ₀            ⎝         \n",
       "                   2                                                                                \n",
       "               2⋅λ₃                                                                                 \n",
       "       -2⋅λ₀ - ─────                                                                                \n",
       "                 λ₀                                                                                 \n",
       "\n",
       "                                                                                                    \n",
       "                                                                                                    \n",
       "                                                                                                    \n",
       "                                                                                                    \n",
       "                                                                                                    \n",
       "                                                                                                    \n",
       "                                                                                                    \n",
       "                                                                                                    \n",
       "                                                                                                    \n",
       "                                                                ⎛             ⎛        2⋅λ₂⋅λ₃⎞ ⎛   \n",
       "                                                                ⎜             ⎜-2⋅λ₁ + ───────⎟⋅⎜λ₂ \n",
       "                                                                ⎜     λ₁⋅λ₂   ⎝           λ₀  ⎠ ⎝   \n",
       "                                                                ⎜λ₃ + ───── - ──────────────────────\n",
       "                                                                ⎜       λ₀                        2 \n",
       "                                                                ⎜                             2⋅λ₃  \n",
       "                                                                ⎜                     -2⋅λ₀ - ───── \n",
       "                                                                ⎝                               λ₀  \n",
       "────────────────────────────────────────────────────────────────────────────────────────────────────\n",
       "                                           ⎛           ⎛             ⎛        2⋅λ₂⋅λ₃⎞ ⎛     λ₁⋅λ₃⎞⎞\n",
       "                                           ⎜           ⎜             ⎜-2⋅λ₁ + ───────⎟⋅⎜λ₂ - ─────⎟⎟\n",
       "                                           ⎜           ⎜     λ₁⋅λ₂   ⎝           λ₀  ⎠ ⎝       λ₀ ⎠⎟\n",
       "                                           ⎜           ⎜λ₃ + ───── - ──────────────────────────────⎟\n",
       "                                           ⎜           ⎜       λ₀                        2         ⎟\n",
       "       ⎛        2⋅λ₂⋅λ₃⎞ ⎛       2⋅λ₂⋅λ₃⎞⎞ ⎜           ⎜                             2⋅λ₃          ⎟\n",
       "   2   ⎜-2⋅λ₁ + ───────⎟⋅⎜2⋅λ₁ + ───────⎟⎟ ⎜       2   ⎜                     -2⋅λ₀ - ─────         ⎟\n",
       "⋅λ₂    ⎝           λ₀  ⎠ ⎝          λ₀  ⎠⎟ ⎜     λ₁    ⎝                               λ₀          ⎠\n",
       "──── - ──────────────────────────────────⎟⋅⎜λ₀ + ─── - ─────────────────────────────────────────────\n",
       " λ₀                          2           ⎟ ⎜      λ₀                                           ⎛    \n",
       "                         2⋅λ₃            ⎟ ⎜                                               2   ⎜-2⋅λ\n",
       "                 -2⋅λ₀ - ─────           ⎟ ⎜                                           2⋅λ₂    ⎝    \n",
       "                           λ₀            ⎠ ⎜                                   -2⋅λ₀ - ───── - ─────\n",
       "                                           ⎜                                             λ₀         \n",
       "                                           ⎜                                                        \n",
       "                                           ⎜                                                        \n",
       "                                           ⎝                                                        \n",
       "\n",
       "                                                                                      \n",
       "                                                                                      \n",
       "                                                                                      \n",
       "                                                                                      \n",
       "                                                                                      \n",
       "                                                                                      \n",
       "                                                                                      \n",
       "                                                                                      \n",
       "                                                                                      \n",
       "  λ₁⋅λ₃⎞⎞                                                                             \n",
       "- ─────⎟⎟                                                                             \n",
       "    λ₀ ⎠⎟                                                                             \n",
       "────────⎟⋅R                                                                           \n",
       "        ⎟                                                                             \n",
       "        ⎟                                                                             \n",
       "        ⎟                                                                             \n",
       "        ⎠                                                                             \n",
       "──────────────────────────────────────────────────────────────────────────────────────\n",
       " ⎛                 ⎛       2⋅λ₂⋅λ₃⎞ ⎛       2⋅λ₁⋅λ₃⎞⎞                                ⎞\n",
       " ⎜                 ⎜2⋅λ₁ + ───────⎟⋅⎜2⋅λ₂ + ───────⎟⎟                                ⎟\n",
       " ⎜       2⋅λ₁⋅λ₂   ⎝          λ₀  ⎠ ⎝          λ₀  ⎠⎟                                ⎟\n",
       "⋅⎜2⋅λ₃ - ─────── - ─────────────────────────────────⎟                                ⎟\n",
       " ⎜          λ₀                           2          ⎟                                ⎟\n",
       " ⎜                                   2⋅λ₃           ⎟   ⎛     λ₁⋅λ₃⎞ ⎛       2⋅λ₁⋅λ₃⎞⎟\n",
       " ⎜                           -2⋅λ₀ - ─────          ⎟   ⎜λ₂ - ─────⎟⋅⎜2⋅λ₂ + ───────⎟⎟\n",
       " ⎝                                     λ₀           ⎠   ⎝       λ₀ ⎠ ⎝          λ₀  ⎠⎟\n",
       "───────────────────────────────────────────────────── - ─────────────────────────────⎟\n",
       "    2⋅λ₂⋅λ₃⎞ ⎛       2⋅λ₂⋅λ₃⎞                                               2        ⎟\n",
       "₁ + ───────⎟⋅⎜2⋅λ₁ + ───────⎟                                           2⋅λ₃         ⎟\n",
       "       λ₀  ⎠ ⎝          λ₀  ⎠                                   -2⋅λ₀ - ─────        ⎟\n",
       "─────────────────────────────                                             λ₀         ⎟\n",
       "                 2                                                                   ⎟\n",
       "             2⋅λ₃                                                                    ⎟\n",
       "     -2⋅λ₀ - ─────                                                                   ⎟\n",
       "               λ₀                                                                    ⎠"
      ]
     },
     "execution_count": 16,
     "metadata": {},
     "output_type": "execute_result"
    }
   ],
   "source": [
    "KM_dict['explicit'].forcing_kin[-1]"
   ]
  },
  {
   "cell_type": "markdown",
   "id": "43c809e7",
   "metadata": {},
   "source": [
    "Of course in this example the dynamics are ok because no q_dot terms showed up in the forcing function, had they showed up, then the big expressions from explicit symbolic solve of kinematics end up in the dynamic equations as well\n",
    "\n",
    "Note that one option, which works in some cases, is to simplify the expressions, but this can slow down things a lot if the expression is too big.\n",
    "\n",
    "Also note that "
   ]
  },
  {
   "cell_type": "code",
   "execution_count": 17,
   "id": "f6a29c4e",
   "metadata": {},
   "outputs": [
    {
     "data": {
      "image/png": "[encoded data removed]",
      "text/latex": [
       "$\\displaystyle \\frac{- \\frac{P λ_{1}}{2} - \\frac{Q λ_{2}}{2} - \\frac{R λ_{3}}{2}}{λ_{0}^{2} + λ_{1}^{2} + λ_{2}^{2} + λ_{3}^{2}}$"
      ],
      "text/plain": [
       "   P⋅λ₁   Q⋅λ₂   R⋅λ₃\n",
       " - ──── - ──── - ────\n",
       "    2      2      2  \n",
       "─────────────────────\n",
       "  2     2     2     2\n",
       "λ₀  + λ₁  + λ₂  + λ₃ "
      ]
     },
     "execution_count": 17,
     "metadata": {},
     "output_type": "execute_result"
    }
   ],
   "source": [
    "sp.simplify(KM_dict['explicit'].forcing_kin[-1])"
   ]
  },
  {
   "cell_type": "code",
   "execution_count": 18,
   "id": "1b02f41d",
   "metadata": {},
   "outputs": [],
   "source": [
    "# Simplifying all of the equations doesn't finish within reasonable time\n",
    "## sp.simplify(KM_dict['explicit'].forcing_kin)"
   ]
  },
  {
   "attachments": {
    "image.png": {
     "image/png": "[encoded data removed]"
    }
   },
   "cell_type": "markdown",
   "id": "42541c81",
   "metadata": {},
   "source": [
    "### Verifying the implicit form\n",
    "\n",
    "Of course, if we could simplify that expression, or provide it directly in explicit form,\n",
    "this wouldn't be an issue. But that's a limitation as it requires manually solving for an implicit form,\n",
    "which defeats the purpose of using sympy :p and a simplification of the expressions above are likely to be exteremly slow.\n",
    "\n",
    "For completeness, we show that the explicit form of the kinematics for the attitude that are derived in textbooks are indeed consistent with the implicit form\n",
    "![image.png](attachment:image.png)"
   ]
  },
  {
   "cell_type": "code",
   "execution_count": 19,
   "id": "d69c8de4",
   "metadata": {},
   "outputs": [
    {
     "data": {
      "text/latex": [
       "$\\displaystyle \\left[\\begin{matrix}- \\frac{P λ_{1}}{2} - \\frac{Q λ_{2}}{2} - \\frac{R λ_{3}}{2}\\\\\\frac{P λ_{0}}{2} - \\frac{Q λ_{3}}{2} + \\frac{R λ_{2}}{2}\\\\\\frac{P λ_{3}}{2} + \\frac{Q λ_{0}}{2} - \\frac{R λ_{1}}{2}\\\\- \\frac{P λ_{2}}{2} + \\frac{Q λ_{1}}{2} + \\frac{R λ_{0}}{2}\\end{matrix}\\right]$"
      ],
      "text/plain": [
       "⎡  P⋅λ₁   Q⋅λ₂   R⋅λ₃⎤\n",
       "⎢- ──── - ──── - ────⎥\n",
       "⎢   2      2      2  ⎥\n",
       "⎢                    ⎥\n",
       "⎢ P⋅λ₀   Q⋅λ₃   R⋅λ₂ ⎥\n",
       "⎢ ──── - ──── + ──── ⎥\n",
       "⎢  2      2      2   ⎥\n",
       "⎢                    ⎥\n",
       "⎢ P⋅λ₃   Q⋅λ₀   R⋅λ₁ ⎥\n",
       "⎢ ──── + ──── - ──── ⎥\n",
       "⎢  2      2      2   ⎥\n",
       "⎢                    ⎥\n",
       "⎢  P⋅λ₂   Q⋅λ₁   R⋅λ₀⎥\n",
       "⎢- ──── + ──── + ────⎥\n",
       "⎣   2      2      2  ⎦"
      ]
     },
     "execution_count": 19,
     "metadata": {},
     "output_type": "execute_result"
    }
   ],
   "source": [
    "q_dot_textbook = sp.Matrix([\n",
    "    [0, -P, -Q, -R],\n",
    "    [P,  0,  R, -Q],\n",
    "    [Q, -R,  0,  P],\n",
    "    [R,  Q, -P,  0],\n",
    "]) * q_att_vec / 2\n",
    "q_dot_textbook"
   ]
  },
  {
   "cell_type": "code",
   "execution_count": 25,
   "id": "77416275",
   "metadata": {},
   "outputs": [
    {
     "data": {
      "text/latex": [
       "$\\displaystyle \\left[\\begin{matrix}λ_{1} & λ_{2} & λ_{3} & B_{x} & B_{y} & B_{z} & λ_{0}\\end{matrix}\\right]$"
      ],
      "text/plain": [
       "[λ₁  λ₂  λ₃  Bₓ  B_y  B_z  λ₀]"
      ]
     },
     "execution_count": 25,
     "metadata": {},
     "output_type": "execute_result"
    }
   ],
   "source": [
    "KM_dict['implicit'].q.T"
   ]
  },
  {
   "cell_type": "code",
   "execution_count": 26,
   "id": "50e755e4",
   "metadata": {},
   "outputs": [
    {
     "data": {
      "text/latex": [
       "$\\displaystyle \\left[\\begin{matrix}\\frac{P λ_{0}}{2} - \\frac{Q λ_{3}}{2} + \\frac{R λ_{2}}{2} & \\frac{P λ_{3}}{2} + \\frac{Q λ_{0}}{2} - \\frac{R λ_{1}}{2} & - \\frac{P λ_{2}}{2} + \\frac{Q λ_{1}}{2} + \\frac{R λ_{0}}{2} & \\dot{B}_{x} & \\dot{B}_{y} & \\dot{B}_{z} & - \\frac{P λ_{1}}{2} - \\frac{Q λ_{2}}{2} - \\frac{R λ_{3}}{2}\\end{matrix}\\right]$"
      ],
      "text/plain": [
       "⎡P⋅λ₀   Q⋅λ₃   R⋅λ₂  P⋅λ₃   Q⋅λ₀   R⋅λ₁    P⋅λ₂   Q⋅λ₁   R⋅λ₀                  P⋅λ₁   Q⋅λ₂   R⋅λ₃⎤\n",
       "⎢──── - ──── + ────  ──── + ──── - ────  - ──── + ──── + ────  Bₓ̇  B_̇y  B_̇z  - ──── - ──── - ────⎥\n",
       "⎣ 2      2      2     2      2      2       2      2      2                     2      2      2  ⎦"
      ]
     },
     "execution_count": 26,
     "metadata": {},
     "output_type": "execute_result"
    }
   ],
   "source": [
    "#sympy's Kane puts the dependent coordinate last\n",
    "q_dot_candidate_sol = KM_dict['implicit'].q.diff()\n",
    "\n",
    "q_dot_candidate_sol[-1] = q_dot_textbook[0]\n",
    "q_dot_candidate_sol[0]  = q_dot_textbook[1]\n",
    "q_dot_candidate_sol[1]  = q_dot_textbook[2]\n",
    "q_dot_candidate_sol[2]  = q_dot_textbook[3]\n",
    "q_dot_candidate_sol.T"
   ]
  },
  {
   "cell_type": "code",
   "execution_count": 27,
   "id": "68390939",
   "metadata": {},
   "outputs": [],
   "source": [
    "rhs_candidate = sp.simplify(KM_dict['implicit'].mass_matrix_kin * q_dot_candidate_sol)"
   ]
  },
  {
   "cell_type": "code",
   "execution_count": 23,
   "id": "0eb734b2",
   "metadata": {},
   "outputs": [
    {
     "data": {
      "text/latex": [
       "$\\displaystyle \\left[\\begin{matrix}\\left(- λ_{0}^{2} - λ_{1}^{2} - λ_{2}^{2} - λ_{3}^{2}\\right) P\\\\\\left(- λ_{0}^{2} - λ_{1}^{2} - λ_{2}^{2} - λ_{3}^{2}\\right) Q\\\\\\left(- λ_{0}^{2} - λ_{1}^{2} - λ_{2}^{2} - λ_{3}^{2}\\right) R\\\\- \\dot{B}_{x}\\end{matrix}\\right] = \\left[\\begin{matrix}- P\\\\- Q\\\\- R\\\\- B_{y} R + B_{z} Q - U\\end{matrix}\\right]$"
      ],
      "text/plain": [
       "⎡⎛    2     2     2     2⎞  ⎤                       \n",
       "⎢⎝- λ₀  - λ₁  - λ₂  - λ₃ ⎠⋅P⎥                       \n",
       "⎢                           ⎥   ⎡        -P        ⎤\n",
       "⎢⎛    2     2     2     2⎞  ⎥   ⎢                  ⎥\n",
       "⎢⎝- λ₀  - λ₁  - λ₂  - λ₃ ⎠⋅Q⎥   ⎢        -Q        ⎥\n",
       "⎢                           ⎥ = ⎢                  ⎥\n",
       "⎢⎛    2     2     2     2⎞  ⎥   ⎢        -R        ⎥\n",
       "⎢⎝- λ₀  - λ₁  - λ₂  - λ₃ ⎠⋅R⎥   ⎢                  ⎥\n",
       "⎢                           ⎥   ⎣-B_y⋅R + B_z⋅Q - U⎦\n",
       "⎣            -Bₓ̇            ⎦                       "
      ]
     },
     "execution_count": 23,
     "metadata": {},
     "output_type": "execute_result"
    }
   ],
   "source": [
    "sp.Eq(rhs_candidate[0:4, 0] , KM_dict['implicit'].forcing_kin[0:4, 0])"
   ]
  },
  {
   "cell_type": "markdown",
   "id": "4adae6c4",
   "metadata": {},
   "source": [
    "Which holds for q_att_vec.norm() == 1"
   ]
  }
 ],
 "metadata": {
  "kernelspec": {
   "display_name": "Python 3 (ipykernel)",
   "language": "python",
   "name": "python3"
  },
  "language_info": {
   "codemirror_mode": {
    "name": "ipython",
    "version": 3
   },
   "file_extension": ".py",
   "mimetype": "text/x-python",
   "name": "python",
   "nbconvert_exporter": "python",
   "pygments_lexer": "ipython3",
   "version": "3.9.7"
  }
 },
 "nbformat": 4,
 "nbformat_minor": 5
}
